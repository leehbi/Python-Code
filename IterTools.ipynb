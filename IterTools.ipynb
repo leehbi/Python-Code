{
 "cells": [
  {
   "cell_type": "raw",
   "metadata": {},
   "source": [
    "Learning about Itertool functions which are a core set of fast, memory efficient tools that are useful by themselves or in combination. Together, they form an “iterator algebra” making it possible to construct specialized tools succinctly and efficiently in pure Python."
   ]
  },
  {
   "cell_type": "code",
   "execution_count": 1,
   "metadata": {},
   "outputs": [
    {
     "name": "stdout",
     "output_type": "stream",
     "text": [
      "1\n",
      "2\n",
      "6\n",
      "24\n",
      "120\n"
     ]
    }
   ],
   "source": [
    "import itertools\n",
    "import operator\n",
    "\n",
    "data = [1,2,3,4,5]\n",
    "\n",
    "result = itertools.accumulate(data, operator.mul)\n",
    "\n",
    "for each in result:\n",
    "    print(each)\n",
    "    \n",
    "\n"
   ]
  },
  {
   "cell_type": "code",
   "execution_count": 2,
   "metadata": {},
   "outputs": [
    {
     "name": "stdout",
     "output_type": "stream",
     "text": [
      "1\n",
      "3\n",
      "6\n",
      "10\n",
      "15\n"
     ]
    }
   ],
   "source": [
    "result = itertools.accumulate(data)\n",
    "#With no function accumulate will SUM\n",
    "\n",
    "for each in result:\n",
    "    print(each)"
   ]
  },
  {
   "cell_type": "markdown",
   "metadata": {},
   "source": [
    "To create combinations of items"
   ]
  },
  {
   "cell_type": "code",
   "execution_count": 3,
   "metadata": {
    "scrolled": true
   },
   "outputs": [
    {
     "name": "stdout",
     "output_type": "stream",
     "text": [
      "('circle', 'triangle')\n",
      "('circle', 'square')\n",
      "('circle', 'box')\n",
      "('circle', 'house')\n",
      "('triangle', 'square')\n",
      "('triangle', 'box')\n",
      "('triangle', 'house')\n",
      "('square', 'box')\n",
      "('square', 'house')\n",
      "('box', 'house')\n"
     ]
    }
   ],
   "source": [
    "shapes = ['circle', 'triangle', 'square','box', 'house']\n",
    "result = itertools.combinations(shapes, 2)\n",
    "for each in result:\n",
    "    print(each)"
   ]
  },
  {
   "cell_type": "markdown",
   "metadata": {},
   "source": [
    " #### To create evely spaced numbers"
   ]
  },
  {
   "cell_type": "code",
   "execution_count": 4,
   "metadata": {},
   "outputs": [
    {
     "name": "stdout",
     "output_type": "stream",
     "text": [
      "1\n",
      "6\n",
      "11\n",
      "16\n",
      "21\n",
      "26\n",
      "31\n",
      "36\n",
      "41\n",
      "46\n",
      "51\n"
     ]
    }
   ],
   "source": [
    "for i in itertools.count(1,5):\n",
    "    print(i)\n",
    "    if i > 50:\n",
    "        break\n"
   ]
  },
  {
   "cell_type": "markdown",
   "metadata": {},
   "source": [
    "Cycle will spin through a list without end"
   ]
  },
  {
   "cell_type": "code",
   "execution_count": null,
   "metadata": {
    "scrolled": true
   },
   "outputs": [],
   "source": [
    "colors = ['red', 'orange', 'yellow', 'green', 'blue', 'violet']\n",
    "a=1\n",
    "for color in itertools.cycle(colors):\n",
    "        print(color)\n",
    "        a = a +1"
   ]
  },
  {
   "cell_type": "markdown",
   "metadata": {},
   "source": [
    "Chain will combine iterables together"
   ]
  },
  {
   "cell_type": "code",
   "execution_count": 8,
   "metadata": {},
   "outputs": [
    {
     "name": "stdout",
     "output_type": "stream",
     "text": [
      "red\n",
      "orange\n",
      "yellow\n",
      "green\n",
      "blue\n",
      "circle\n",
      "triangle\n",
      "square\n",
      "pentagon\n"
     ]
    }
   ],
   "source": [
    "colors = ['red', 'orange', 'yellow', 'green', 'blue']\n",
    "shapes = ['circle', 'triangle', 'square', 'pentagon']\n",
    "result = itertools.chain(colors, shapes)\n",
    "for each in result:\n",
    "    print(each)\n"
   ]
  },
  {
   "cell_type": "markdown",
   "metadata": {},
   "source": [
    "Compress filters one iterable with another"
   ]
  },
  {
   "cell_type": "code",
   "execution_count": 17,
   "metadata": {},
   "outputs": [
    {
     "name": "stdout",
     "output_type": "stream",
     "text": [
      "triangle\n",
      "square\n",
      "pentagon\n"
     ]
    }
   ],
   "source": [
    "shapes = ['circle', 'triangle', 'square', 'pentagon', 'hex']\n",
    "selections = [0, 1, 1, True, 0]\n",
    "result = itertools.compress(shapes, selections)\n",
    "for each in result:\n",
    "    print(each)\n",
    "    \n"
   ]
  },
  {
   "cell_type": "markdown",
   "metadata": {},
   "source": [
    "Filter a iterable whilst the predicate is true"
   ]
  },
  {
   "cell_type": "code",
   "execution_count": 31,
   "metadata": {},
   "outputs": [
    {
     "name": "stdout",
     "output_type": "stream",
     "text": [
      "5\n",
      "6\n",
      "7\n",
      "8\n",
      "9\n",
      "10\n",
      "1\n",
      "2\n"
     ]
    }
   ],
   "source": [
    "data = [1, 4, 2, 3, 4, 5, 6, 7, 8, 9, 10, 1, 2]\n",
    "result = itertools.dropwhile(lambda x: x<5, data)\n",
    "for each in result:\n",
    "    print(each)"
   ]
  },
  {
   "cell_type": "markdown",
   "metadata": {},
   "source": [
    "itertools.filterfalse(predicate, iterable)\n",
    "\n",
    "Filters out the values where the predicate is false\n"
   ]
  },
  {
   "cell_type": "code",
   "execution_count": 28,
   "metadata": {
    "collapsed": true
   },
   "outputs": [
    {
     "name": "stdout",
     "output_type": "stream",
     "text": [
      "11\n",
      "5\n",
      "6\n",
      "7\n",
      "8\n",
      "9\n",
      "10\n",
      "12\n"
     ]
    }
   ],
   "source": [
    "data = [11, 4, 2, 3, 4, 5, 6, 7, 8, 9, 10, 1, 2,12]\n",
    "result = itertools.filterfalse(lambda x: x<5, data)\n",
    "for each in result:\n",
    "    print(each)"
   ]
  },
  {
   "cell_type": "markdown",
   "metadata": {},
   "source": [
    "Groupby - this function groups things together."
   ]
  },
  {
   "cell_type": "code",
   "execution_count": 34,
   "metadata": {},
   "outputs": [
    {
     "name": "stdout",
     "output_type": "stream",
     "text": [
      "autobot\n",
      "[{'name': 'blaster', 'faction': 'autobot'}]\n",
      "decepticon\n",
      "[{'name': 'galvatron', 'faction': 'decepticon'}]\n",
      "autobot\n",
      "[{'name': 'jazz', 'faction': 'autobot'}, {'name': 'metroplex', 'faction': 'autobot'}]\n",
      "decepticon\n",
      "[{'name': 'megatron', 'faction': 'decepticon'}, {'name': 'starcream', 'faction': 'decepticon'}]\n"
     ]
    }
   ],
   "source": [
    "robots = [{\n",
    "    'name': 'blaster',\n",
    "    'faction': 'autobot'\n",
    "}, {\n",
    "    'name': 'galvatron',\n",
    "    'faction': 'decepticon'\n",
    "}, {\n",
    "    'name': 'jazz',\n",
    "    'faction': 'autobot'\n",
    "}, {\n",
    "    'name': 'metroplex',\n",
    "    'faction': 'autobot'\n",
    "}, {\n",
    "    'name': 'megatron',\n",
    "    'faction': 'decepticon'\n",
    "}, {\n",
    "    'name': 'starcream',\n",
    "    'faction': 'decepticon'\n",
    "}]\n",
    "\n",
    "for key, group in itertools.groupby(robots, key=lambda x: x['faction']):\n",
    "    print(key)\n",
    "    print(list(group))\n",
    "    "
   ]
  },
  {
   "cell_type": "markdown",
   "metadata": {},
   "source": [
    "This function is very much like slices. This allows you to cut out a piece of an iterable."
   ]
  },
  {
   "cell_type": "code",
   "execution_count": 38,
   "metadata": {},
   "outputs": [
    {
     "name": "stdout",
     "output_type": "stream",
     "text": [
      "red\n",
      "orange\n",
      "yellow\n"
     ]
    }
   ],
   "source": [
    "colors = ['red', 'orange', 'yellow', 'green', 'blue',]\n",
    "few_colors = itertools.islice(colors, 3)\n",
    "for each in few_colors:\n",
    "    print(each)"
   ]
  },
  {
   "cell_type": "markdown",
   "metadata": {},
   "source": [
    "Generate permutations - careful as this "
   ]
  },
  {
   "cell_type": "code",
   "execution_count": 41,
   "metadata": {},
   "outputs": [
    {
     "name": "stdout",
     "output_type": "stream",
     "text": [
      "('a', 'b', 'c')\n",
      "('a', 'c', 'b')\n",
      "('b', 'a', 'c')\n",
      "('b', 'c', 'a')\n",
      "('c', 'a', 'b')\n",
      "('c', 'b', 'a')\n"
     ]
    }
   ],
   "source": [
    "alpha_data = ['a', 'b', 'c']\n",
    "result = itertools.permutations(alpha_data)\n",
    "for each in result:\n",
    "    print(each)\n"
   ]
  }
 ],
 "metadata": {
  "kernelspec": {
   "display_name": "Python 3",
   "language": "python",
   "name": "python3"
  },
  "language_info": {
   "codemirror_mode": {
    "name": "ipython",
    "version": 3
   },
   "file_extension": ".py",
   "mimetype": "text/x-python",
   "name": "python",
   "nbconvert_exporter": "python",
   "pygments_lexer": "ipython3",
   "version": "3.7.3"
  }
 },
 "nbformat": 4,
 "nbformat_minor": 2
}
